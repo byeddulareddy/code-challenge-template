{
 "cells": [
  {
   "cell_type": "code",
   "execution_count": 1,
   "metadata": {},
   "outputs": [
    {
     "name": "stdout",
     "output_type": "stream",
     "text": [
      "Collecting spylon-kernel\n",
      "  Downloading spylon-kernel-0.4.1.tar.gz (33 kB)\n",
      "  Installing build dependencies: started\n",
      "  Installing build dependencies: finished with status 'done'\n",
      "  Getting requirements to build wheel: started\n",
      "  Getting requirements to build wheel: finished with status 'done'\n",
      "  Preparing metadata (pyproject.toml): started\n",
      "  Preparing metadata (pyproject.toml): finished with status 'done'\n",
      "Requirement already satisfied: ipykernel in c:\\users\\bhargava reddy yeddu\\appdata\\local\\packages\\pythonsoftwarefoundation.python.3.11_qbz5n2kfra8p0\\localcache\\local-packages\\python311\\site-packages (from spylon-kernel) (6.26.0)\n",
      "Requirement already satisfied: jedi>=0.10 in c:\\users\\bhargava reddy yeddu\\appdata\\local\\packages\\pythonsoftwarefoundation.python.3.11_qbz5n2kfra8p0\\localcache\\local-packages\\python311\\site-packages (from spylon-kernel) (0.19.1)\n",
      "Collecting metakernel (from spylon-kernel)\n",
      "  Downloading metakernel-0.30.1-py3-none-any.whl.metadata (7.5 kB)\n",
      "Collecting spylon[spark] (from spylon-kernel)\n",
      "  Downloading spylon-0.3.0.tar.gz (140 kB)\n",
      "     ---------------------------------------- 0.0/140.4 kB ? eta -:--:--\n",
      "     ------------------------------ ------- 112.6/140.4 kB 3.3 MB/s eta 0:00:01\n",
      "     -------------------------------------- 140.4/140.4 kB 2.1 MB/s eta 0:00:00\n",
      "  Installing build dependencies: started\n",
      "  Installing build dependencies: finished with status 'done'\n",
      "  Getting requirements to build wheel: started\n",
      "  Getting requirements to build wheel: finished with status 'done'\n",
      "  Preparing metadata (pyproject.toml): started\n",
      "  Preparing metadata (pyproject.toml): finished with status 'done'\n",
      "Requirement already satisfied: tornado in c:\\users\\bhargava reddy yeddu\\appdata\\local\\packages\\pythonsoftwarefoundation.python.3.11_qbz5n2kfra8p0\\localcache\\local-packages\\python311\\site-packages (from spylon-kernel) (6.3.3)\n",
      "Requirement already satisfied: parso<0.9.0,>=0.8.3 in c:\\users\\bhargava reddy yeddu\\appdata\\local\\packages\\pythonsoftwarefoundation.python.3.11_qbz5n2kfra8p0\\localcache\\local-packages\\python311\\site-packages (from jedi>=0.10->spylon-kernel) (0.8.3)\n",
      "Requirement already satisfied: comm>=0.1.1 in c:\\users\\bhargava reddy yeddu\\appdata\\local\\packages\\pythonsoftwarefoundation.python.3.11_qbz5n2kfra8p0\\localcache\\local-packages\\python311\\site-packages (from ipykernel->spylon-kernel) (0.1.4)\n",
      "Requirement already satisfied: debugpy>=1.6.5 in c:\\users\\bhargava reddy yeddu\\appdata\\local\\packages\\pythonsoftwarefoundation.python.3.11_qbz5n2kfra8p0\\localcache\\local-packages\\python311\\site-packages (from ipykernel->spylon-kernel) (1.8.0)\n",
      "Requirement already satisfied: ipython>=7.23.1 in c:\\users\\bhargava reddy yeddu\\appdata\\local\\packages\\pythonsoftwarefoundation.python.3.11_qbz5n2kfra8p0\\localcache\\local-packages\\python311\\site-packages (from ipykernel->spylon-kernel) (8.16.1)\n",
      "Requirement already satisfied: jupyter-client>=6.1.12 in c:\\users\\bhargava reddy yeddu\\appdata\\local\\packages\\pythonsoftwarefoundation.python.3.11_qbz5n2kfra8p0\\localcache\\local-packages\\python311\\site-packages (from ipykernel->spylon-kernel) (8.5.0)\n",
      "Requirement already satisfied: jupyter-core!=5.0.*,>=4.12 in c:\\users\\bhargava reddy yeddu\\appdata\\local\\packages\\pythonsoftwarefoundation.python.3.11_qbz5n2kfra8p0\\localcache\\local-packages\\python311\\site-packages (from ipykernel->spylon-kernel) (5.4.0)\n",
      "Requirement already satisfied: matplotlib-inline>=0.1 in c:\\users\\bhargava reddy yeddu\\appdata\\local\\packages\\pythonsoftwarefoundation.python.3.11_qbz5n2kfra8p0\\localcache\\local-packages\\python311\\site-packages (from ipykernel->spylon-kernel) (0.1.6)\n",
      "Requirement already satisfied: nest-asyncio in c:\\users\\bhargava reddy yeddu\\appdata\\local\\packages\\pythonsoftwarefoundation.python.3.11_qbz5n2kfra8p0\\localcache\\local-packages\\python311\\site-packages (from ipykernel->spylon-kernel) (1.5.8)\n",
      "Requirement already satisfied: packaging in c:\\users\\bhargava reddy yeddu\\appdata\\local\\packages\\pythonsoftwarefoundation.python.3.11_qbz5n2kfra8p0\\localcache\\local-packages\\python311\\site-packages (from ipykernel->spylon-kernel) (23.2)\n",
      "Requirement already satisfied: psutil in c:\\users\\bhargava reddy yeddu\\appdata\\local\\packages\\pythonsoftwarefoundation.python.3.11_qbz5n2kfra8p0\\localcache\\local-packages\\python311\\site-packages (from ipykernel->spylon-kernel) (5.9.6)\n",
      "Requirement already satisfied: pyzmq>=20 in c:\\users\\bhargava reddy yeddu\\appdata\\local\\packages\\pythonsoftwarefoundation.python.3.11_qbz5n2kfra8p0\\localcache\\local-packages\\python311\\site-packages (from ipykernel->spylon-kernel) (25.1.1)\n",
      "Requirement already satisfied: traitlets>=5.4.0 in c:\\users\\bhargava reddy yeddu\\appdata\\local\\packages\\pythonsoftwarefoundation.python.3.11_qbz5n2kfra8p0\\localcache\\local-packages\\python311\\site-packages (from ipykernel->spylon-kernel) (5.12.0)\n",
      "Collecting pexpect>=4.8 (from metakernel->spylon-kernel)\n",
      "  Downloading pexpect-4.8.0-py2.py3-none-any.whl (59 kB)\n",
      "     ---------------------------------------- 0.0/59.0 kB ? eta -:--:--\n",
      "     ---------------------------------------- 59.0/59.0 kB 3.3 MB/s eta 0:00:00\n",
      "Requirement already satisfied: findspark in c:\\users\\bhargava reddy yeddu\\appdata\\local\\packages\\pythonsoftwarefoundation.python.3.11_qbz5n2kfra8p0\\localcache\\local-packages\\python311\\site-packages (from spylon[spark]->spylon-kernel) (2.0.1)\n",
      "Requirement already satisfied: pyyaml in c:\\users\\bhargava reddy yeddu\\appdata\\local\\packages\\pythonsoftwarefoundation.python.3.11_qbz5n2kfra8p0\\localcache\\local-packages\\python311\\site-packages (from spylon[spark]->spylon-kernel) (6.0.1)\n",
      "Requirement already satisfied: backcall in c:\\users\\bhargava reddy yeddu\\appdata\\local\\packages\\pythonsoftwarefoundation.python.3.11_qbz5n2kfra8p0\\localcache\\local-packages\\python311\\site-packages (from ipython>=7.23.1->ipykernel->spylon-kernel) (0.2.0)\n",
      "Requirement already satisfied: decorator in c:\\users\\bhargava reddy yeddu\\appdata\\local\\packages\\pythonsoftwarefoundation.python.3.11_qbz5n2kfra8p0\\localcache\\local-packages\\python311\\site-packages (from ipython>=7.23.1->ipykernel->spylon-kernel) (5.1.1)\n",
      "Requirement already satisfied: pickleshare in c:\\users\\bhargava reddy yeddu\\appdata\\local\\packages\\pythonsoftwarefoundation.python.3.11_qbz5n2kfra8p0\\localcache\\local-packages\\python311\\site-packages (from ipython>=7.23.1->ipykernel->spylon-kernel) (0.7.5)\n",
      "Requirement already satisfied: prompt-toolkit!=3.0.37,<3.1.0,>=3.0.30 in c:\\users\\bhargava reddy yeddu\\appdata\\local\\packages\\pythonsoftwarefoundation.python.3.11_qbz5n2kfra8p0\\localcache\\local-packages\\python311\\site-packages (from ipython>=7.23.1->ipykernel->spylon-kernel) (3.0.39)\n",
      "Requirement already satisfied: pygments>=2.4.0 in c:\\users\\bhargava reddy yeddu\\appdata\\local\\packages\\pythonsoftwarefoundation.python.3.11_qbz5n2kfra8p0\\localcache\\local-packages\\python311\\site-packages (from ipython>=7.23.1->ipykernel->spylon-kernel) (2.16.1)\n",
      "Requirement already satisfied: stack-data in c:\\users\\bhargava reddy yeddu\\appdata\\local\\packages\\pythonsoftwarefoundation.python.3.11_qbz5n2kfra8p0\\localcache\\local-packages\\python311\\site-packages (from ipython>=7.23.1->ipykernel->spylon-kernel) (0.6.3)\n",
      "Requirement already satisfied: colorama in c:\\users\\bhargava reddy yeddu\\appdata\\local\\packages\\pythonsoftwarefoundation.python.3.11_qbz5n2kfra8p0\\localcache\\local-packages\\python311\\site-packages (from ipython>=7.23.1->ipykernel->spylon-kernel) (0.4.6)\n",
      "Requirement already satisfied: python-dateutil>=2.8.2 in c:\\users\\bhargava reddy yeddu\\appdata\\local\\packages\\pythonsoftwarefoundation.python.3.11_qbz5n2kfra8p0\\localcache\\local-packages\\python311\\site-packages (from jupyter-client>=6.1.12->ipykernel->spylon-kernel) (2.8.2)\n",
      "Requirement already satisfied: platformdirs>=2.5 in c:\\users\\bhargava reddy yeddu\\appdata\\local\\packages\\pythonsoftwarefoundation.python.3.11_qbz5n2kfra8p0\\localcache\\local-packages\\python311\\site-packages (from jupyter-core!=5.0.*,>=4.12->ipykernel->spylon-kernel) (3.11.0)\n",
      "Requirement already satisfied: pywin32>=300 in c:\\users\\bhargava reddy yeddu\\appdata\\local\\packages\\pythonsoftwarefoundation.python.3.11_qbz5n2kfra8p0\\localcache\\local-packages\\python311\\site-packages (from jupyter-core!=5.0.*,>=4.12->ipykernel->spylon-kernel) (306)\n",
      "Collecting ptyprocess>=0.5 (from pexpect>=4.8->metakernel->spylon-kernel)\n",
      "  Downloading ptyprocess-0.7.0-py2.py3-none-any.whl (13 kB)\n",
      "Requirement already satisfied: wcwidth in c:\\users\\bhargava reddy yeddu\\appdata\\local\\packages\\pythonsoftwarefoundation.python.3.11_qbz5n2kfra8p0\\localcache\\local-packages\\python311\\site-packages (from prompt-toolkit!=3.0.37,<3.1.0,>=3.0.30->ipython>=7.23.1->ipykernel->spylon-kernel) (0.2.8)\n",
      "Requirement already satisfied: six>=1.5 in c:\\users\\bhargava reddy yeddu\\appdata\\local\\packages\\pythonsoftwarefoundation.python.3.11_qbz5n2kfra8p0\\localcache\\local-packages\\python311\\site-packages (from python-dateutil>=2.8.2->jupyter-client>=6.1.12->ipykernel->spylon-kernel) (1.16.0)\n",
      "Requirement already satisfied: executing>=1.2.0 in c:\\users\\bhargava reddy yeddu\\appdata\\local\\packages\\pythonsoftwarefoundation.python.3.11_qbz5n2kfra8p0\\localcache\\local-packages\\python311\\site-packages (from stack-data->ipython>=7.23.1->ipykernel->spylon-kernel) (2.0.0)\n",
      "Requirement already satisfied: asttokens>=2.1.0 in c:\\users\\bhargava reddy yeddu\\appdata\\local\\packages\\pythonsoftwarefoundation.python.3.11_qbz5n2kfra8p0\\localcache\\local-packages\\python311\\site-packages (from stack-data->ipython>=7.23.1->ipykernel->spylon-kernel) (2.4.1)\n",
      "Requirement already satisfied: pure-eval in c:\\users\\bhargava reddy yeddu\\appdata\\local\\packages\\pythonsoftwarefoundation.python.3.11_qbz5n2kfra8p0\\localcache\\local-packages\\python311\\site-packages (from stack-data->ipython>=7.23.1->ipykernel->spylon-kernel) (0.2.2)\n",
      "Downloading metakernel-0.30.1-py3-none-any.whl (217 kB)\n",
      "   ---------------------------------------- 0.0/217.8 kB ? eta -:--:--\n",
      "   ---------------------------------------- 217.8/217.8 kB 6.7 MB/s eta 0:00:00\n",
      "Building wheels for collected packages: spylon-kernel, spylon\n",
      "  Building wheel for spylon-kernel (pyproject.toml): started\n",
      "  Building wheel for spylon-kernel (pyproject.toml): finished with status 'done'\n",
      "  Created wheel for spylon-kernel: filename=spylon_kernel-0.4.1-py2.py3-none-any.whl size=18377 sha256=e59909da505df6dd1f7a2ce03f5566036241222f8b81dff200706b12a20eda0b\n",
      "  Stored in directory: c:\\users\\bhargava reddy yeddu\\appdata\\local\\packages\\pythonsoftwarefoundation.python.3.11_qbz5n2kfra8p0\\localcache\\local\\pip\\cache\\wheels\\5a\\bb\\28\\5f10518def3fa49aff5419217a8db6e0cec20e0da7d790c24a\n",
      "  Building wheel for spylon (pyproject.toml): started\n",
      "  Building wheel for spylon (pyproject.toml): finished with status 'done'\n",
      "  Created wheel for spylon: filename=spylon-0.3.0-py3-none-any.whl size=136177 sha256=9088df91ad81a0bb12e73e14c6083335df7b6a3b4c4662580b6d8b090bace7c3\n",
      "  Stored in directory: c:\\users\\bhargava reddy yeddu\\appdata\\local\\packages\\pythonsoftwarefoundation.python.3.11_qbz5n2kfra8p0\\localcache\\local\\pip\\cache\\wheels\\4f\\df\\b6\\d6a6c807b7cb5df3da204386423d0fd93e4ee02377fec0d3c0\n",
      "Successfully built spylon-kernel spylon\n",
      "Installing collected packages: spylon, ptyprocess, pexpect, metakernel, spylon-kernel\n",
      "Successfully installed metakernel-0.30.1 pexpect-4.8.0 ptyprocess-0.7.0 spylon-0.3.0 spylon-kernel-0.4.1\n"
     ]
    }
   ],
   "source": [
    "!pip install spylon-kernel"
   ]
  },
  {
   "cell_type": "code",
   "execution_count": 2,
   "metadata": {},
   "outputs": [
    {
     "name": "stderr",
     "output_type": "stream",
     "text": [
      "0.01s - Debugger warning: It seems that frozen modules are being used, which may\n",
      "0.00s - make the debugger miss breakpoints. Please pass -Xfrozen_modules=off\n",
      "0.00s - to python to disable frozen modules.\n",
      "0.00s - Note: Debugging will proceed. Set PYDEVD_DISABLE_FILE_VALIDATION=1 to disable this validation.\n",
      "[InstallKernelSpec] Installed kernelspec spylon-kernel in C:\\ProgramData\\jupyter\\kernels\\spylon-kernel\n"
     ]
    }
   ],
   "source": [
    "!python -m spylon_kernel install"
   ]
  },
  {
   "cell_type": "code",
   "execution_count": 4,
   "metadata": {},
   "outputs": [
    {
     "name": "stderr",
     "output_type": "stream",
     "text": [
      "[TerminalIPythonApp] WARNING | File 'notebook' doesn't exist\n"
     ]
    }
   ],
   "source": [
    "!ipython notebook"
   ]
  },
  {
   "cell_type": "code",
   "execution_count": 5,
   "metadata": {},
   "outputs": [
    {
     "name": "stderr",
     "output_type": "stream",
     "text": [
      "'New' is not recognized as an internal or external command,\n",
      "operable program or batch file.\n"
     ]
    }
   ],
   "source": [
    "!New -> spylon-kernel"
   ]
  },
  {
   "cell_type": "code",
   "execution_count": null,
   "metadata": {},
   "outputs": [],
   "source": []
  }
 ],
 "metadata": {
  "kernelspec": {
   "display_name": "Python 3",
   "language": "python",
   "name": "python3"
  },
  "language_info": {
   "codemirror_mode": {
    "name": "ipython",
    "version": 3
   },
   "file_extension": ".py",
   "mimetype": "text/x-python",
   "name": "python",
   "nbconvert_exporter": "python",
   "pygments_lexer": "ipython3",
   "version": "3.11.6"
  }
 },
 "nbformat": 4,
 "nbformat_minor": 2
}
